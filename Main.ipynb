{
 "cells": [
  {
   "cell_type": "code",
   "execution_count": 11,
   "metadata": {},
   "outputs": [
    {
     "name": "stdout",
     "output_type": "stream",
     "text": [
      " * Serving Flask app \"__main__\" (lazy loading)\n",
      " * Environment: production\n",
      "   WARNING: Do not use the development server in a production environment.\n",
      "   Use a production WSGI server instead.\n",
      " * Debug mode: off\n"
     ]
    },
    {
     "name": "stderr",
     "output_type": "stream",
     "text": [
      " * Running on http://127.0.0.1:5000/ (Press CTRL+C to quit)\n"
     ]
    }
   ],
   "source": [
    "from flask import Flask, render_template, flash, request, redirect\n",
    "#from app import app\n",
    "#from db_setup import init_db, db_session\n",
    "#from forms import ProductSearchForm\n",
    "#from models import Album\n",
    "\n",
    "app = Flask(__name__)\n",
    "\n",
    "@app.route(\"/\")\n",
    "def main():\n",
    "    return render_template('index.html')\n",
    "\n",
    "#init_db()\n",
    " \n",
    " \n",
    "# @app.route('/', methods=['GET', 'POST'])\n",
    "# def index():\n",
    "#     search = MusicSearchForm(request.form)\n",
    "#     if request.method == 'POST':\n",
    "#         return search_results(search)\n",
    " \n",
    "#     return render_template('index.html', form=search)\n",
    " \n",
    " \n",
    "# @app.route('/results')\n",
    "# def search_results(search):\n",
    "#     results = []\n",
    "#     search_string = search.data['search']\n",
    " \n",
    "#     if search.data['search'] == '':\n",
    "#         qry = db_session.query(Album)\n",
    "#         results = qry.all()\n",
    " \n",
    "#     if not results:\n",
    "#         flash('No results found!')\n",
    "#         return redirect('/')\n",
    "#     else:\n",
    "#         # display results\n",
    "#         return render_template('results.html', results=results)\n",
    " \n",
    "# if __name__ == '__main__':\n",
    "#     app.run()\n",
    "\n",
    "# @app.route(\"/hello\")\n",
    "# def hello():\n",
    "#     return \"Hello\"\n",
    "\n",
    "# @app.route(\"/members\")\n",
    "# def members():\n",
    "#     return \"Members\"\n",
    "\n",
    "# @app.route(\"/members/Lizzie/\")\n",
    "# def getMember():\n",
    "#     return \"Lizzie\"\n",
    "\n",
    "\n",
    "\n",
    "if __name__ == \"__main__\":\n",
    "    app.run()\n",
    "    \n"
   ]
  }
 ],
 "metadata": {
  "kernelspec": {
   "display_name": "Python 3",
   "language": "python",
   "name": "python3"
  },
  "language_info": {
   "codemirror_mode": {
    "name": "ipython",
    "version": 3
   },
   "file_extension": ".py",
   "mimetype": "text/x-python",
   "name": "python",
   "nbconvert_exporter": "python",
   "pygments_lexer": "ipython3",
   "version": "3.7.3"
  }
 },
 "nbformat": 4,
 "nbformat_minor": 2
}
